{
 "cells": [
  {
   "cell_type": "code",
   "execution_count": 14,
   "metadata": {},
   "outputs": [
    {
     "name": "stderr",
     "output_type": "stream",
     "text": [
      "Generate config GenerationConfig {\n",
      "  \"bos_token_id\": 50256,\n",
      "  \"eos_token_id\": 50256,\n",
      "  \"transformers_version\": \"4.26.1\"\n",
      "}\n",
      "\n",
      "loading configuration file generation_config.json from cache at aitextgen/models--gpt2/snapshots/e7da7f221d5bf496a48136c0cd264e630fe9fcc8/generation_config.json\n",
      "Generate config GenerationConfig {\n",
      "  \"_from_model_config\": true,\n",
      "  \"bos_token_id\": 50256,\n",
      "  \"eos_token_id\": 50256,\n",
      "  \"transformers_version\": \"4.26.1\"\n",
      "}\n",
      "\n"
     ]
    }
   ],
   "source": [
    "from aitextgen import aitextgen\n",
    "\n",
    "ai = aitextgen()"
   ]
  },
  {
   "cell_type": "code",
   "execution_count": 18,
   "metadata": {},
   "outputs": [
    {
     "name": "stderr",
     "output_type": "stream",
     "text": [
      "Generate config GenerationConfig {\n",
      "  \"bos_token_id\": 50256,\n",
      "  \"eos_token_id\": 50256,\n",
      "  \"transformers_version\": \"4.26.1\"\n",
      "}\n",
      "\n"
     ]
    },
    {
     "name": "stdout",
     "output_type": "stream",
     "text": [
      "\u001b[1mHow to make a Love Poem\u001b[0m:\n",
      "\n",
      "Don't read the original book.\n",
      "\n",
      "Go to your favorite bookstore, and ask the author if they'd like to reprint the book.\n",
      "\n",
      "Read the book.\n",
      "\n",
      "And then share your love for the book with your friends and family.\n",
      "\n",
      "If you're an artist, if you're an artist, if you're working with a writer, if you're a writer, if you're a writer, or if you're a writer, then you might want to take the time to look at the book and try to figure out what you're writing about.\n",
      "\n",
      "Do you really think you're writing a love poem?\n",
      "\n",
      "Or do you think you're writing a love poem?\n",
      "\n",
      "If you'd like to share your love of the book with your friends, or to read about it, then let's talk about it.\n",
      "\n",
      "Want to read more?\n",
      "\n",
      "Follow us on Twitter, Facebook, or Instagram!\n",
      "\n",
      "Subscribe to our newsletter to get more great content every week!\n",
      "==========\n",
      "\u001b[1mHow to make a Love Poem\u001b[0m\n",
      "\n",
      "I always like to make a love poem that's more of a rhyme that I hope is a good rhyme and not a bad rhyme.\n",
      "\n",
      "This is a pretty simple way to make this.\n",
      "\n",
      "Put your words together and write out a love poem or an episode of your favorite show.\n",
      "\n",
      "I've made it through a couple of drafts just to make my writing easier.\n",
      "\n",
      "But this is a great way to make sure your love poem doesn't feel like a random bunch of things.\n",
      "\n",
      "Then, just put them together and write out your next love poem or episode of your favorite show.\n",
      "\n",
      "You might want to do this for your love poem or episode.\n",
      "\n",
      "But, if it's something that you feel like would stand out, you can always add some of your own rhymes to make it more of a poem.\n",
      "\n",
      "I love this love poem.\n",
      "\n",
      "I love your life.\n",
      "\n",
      "I love your love.\n",
      "\n",
      "I love who you are.\n",
      "\n",
      "I love who you are.\n",
      "\n",
      "I love who you want to be.\n",
      "\n",
      "I love who you want to be.\n",
      "\n",
      "And if you're happy with the way your love poem is\n",
      "==========\n",
      "\u001b[1mHow to make a Love Poem\u001b[0m\n",
      "\n",
      "This is a great starting point for me. For me, writing a love poem has become a chore. I don't have a lot of time to take notes, so I write it on a napkin or notebook. And then I write again. I can't keep up with the pace of the writing. Sometimes I just write a poem on the napkin or notebook.\n",
      "\n",
      "When I first started this writing process, I started with just notes on a napkin or notebook. I got a lot of notes from people who read my writing. But I don't think I have any notes on a notebook. I have notes on a stick, or a pen. And sometimes there are notes that I have on my notes on a stick. I have scribbles. I have notebooks. I have pens. But I also have notes on a pen. So I just have notes on a pen.\n",
      "\n",
      "Now, as you see, I've had a lot of trouble creating a love poem. I've had a lot of problems with writing. But I'm happy to write a love poem. It's not about writing, it's about creating.\n",
      "\n",
      "This love poem is a love poem that I am writing.\n",
      "\n",
      "\n",
      "None\n"
     ]
    }
   ],
   "source": [
    "print(ai.generate(prompt=\"How to make a Love Poem\" , n=3))"
   ]
  },
  {
   "cell_type": "code",
   "execution_count": 19,
   "metadata": {},
   "outputs": [
    {
     "name": "stderr",
     "output_type": "stream",
     "text": [
      "Generate config GenerationConfig {\n",
      "  \"bos_token_id\": 50256,\n",
      "  \"eos_token_id\": 50256,\n",
      "  \"transformers_version\": \"4.26.1\"\n",
      "}\n",
      "\n"
     ]
    },
    {
     "name": "stdout",
     "output_type": "stream",
     "text": [
      "\u001b[1m1. A fear that most have about a.i are if they started to turned on their creators and started to taking over humanity. There also the fact that they will start taking over jobs leaving humans with none so that will make getting money will worse.\u001b[0m\n",
      "\n",
      "3. The way you have to be able to do this is you have to be able to communicate and use your tools, your knowledge, your knowledge. So you have to really start understanding these things.\n",
      "\n",
      "4. You have to be able to be aware of your own needs. So you have to know what you need to do and how you need to do it.\n",
      "\n",
      "5. You have to be able to be able to be patient and kind. So you have to be able to care for your children.\n",
      "\n",
      "6. You have to be able to be patient and kind, and be aware of your own needs. So you have to be aware of yourself and your own needs.\n",
      "\n",
      "7. You have to be able to be patient and kind and be aware of yourself and your own needs. So you have to be patient and kind and be aware of yourself and your own needs. And your own needs, you have to be aware of yourself and your own needs.\n",
      "\n",
      "\n",
      "==========\n",
      "\u001b[1m1. A fear that most have about a.i are if they started to turned on their creators and started to taking over humanity. There also the fact that they will start taking over jobs leaving humans with none so that will make getting money will worse.\u001b[0m If you are a writer and you feel like you are losing money or if you feel like that is a bad thing and you really want to make money, you can get a job and it will be more like a.i in a way, that is the only way to lose money and make money. That is what the creators of the series are doing. So if you are scared that you are going to lose money or you want to make money and you feel like that is a bad thing, you have to make a choice. Is it something you would like to do? Is it something you have to do? If that is what you want to do, then at least be prepared to get a job. If you are not prepared you won't be able to get one. If you feel that your life is getting worse then your life is going to be better if you are prepared. And then you can go back to work. You can always go back to work, and make money.\n",
      "\n",
      "You mentioned that\n",
      "==========\n",
      "\u001b[1m1. A fear that most have about a.i are if they started to turned on their creators and started to taking over humanity. There also the fact that they will start taking over jobs leaving humans with none so that will make getting money will worse.\u001b[0m\n",
      "\n",
      "A.i.I.s are an alien race. It is not. What will happen to them? Will they become intelligent. Will they survive their fate? Will they take over the world as they see fit or will they be destroyed?\n",
      "\n",
      "A.i.I.s are not going to take over humanity.\n",
      "\n",
      "It's not like they have to take over the planet, it's not like they have to take over the world. They can take over that with money.\n",
      "\n",
      "They are not going to take over the planet.\n",
      "\n",
      "They are not going to take over mankind.\n",
      "\n",
      "They are not going to take over the Earth.\n",
      "\n",
      "They are not going to take over the world.\n",
      "\n",
      "They are not going to take over the Sun.\n",
      "\n",
      "They are not going to take over the Earth.\n",
      "\n",
      "They are not going to be able to take over the Sun.\n",
      "\n",
      "They are not going to be able to take over the Sun.\n",
      "\n",
      "\n",
      "None\n"
     ]
    }
   ],
   "source": [
    "print(ai.generate(prompt=\"1. A fear that most have about a.i are if they started to turned on their creators and started to taking over humanity. There also the fact that they will start taking over jobs leaving humans with none so that will make getting money will worse.\", n=3))"
   ]
  }
 ],
 "metadata": {
  "kernelspec": {
   "display_name": "Python 3",
   "language": "python",
   "name": "python3"
  },
  "language_info": {
   "codemirror_mode": {
    "name": "ipython",
    "version": 3
   },
   "file_extension": ".py",
   "mimetype": "text/x-python",
   "name": "python",
   "nbconvert_exporter": "python",
   "pygments_lexer": "ipython3",
   "version": "3.9.6"
  },
  "orig_nbformat": 4,
  "vscode": {
   "interpreter": {
    "hash": "31f2aee4e71d21fbe5cf8b01ff0e069b9275f58929596ceb00d14d90e3e16cd6"
   }
  }
 },
 "nbformat": 4,
 "nbformat_minor": 2
}
